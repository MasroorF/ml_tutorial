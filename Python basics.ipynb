{
 "cells": [
  {
   "cell_type": "markdown",
   "metadata": {},
   "source": [
    "# Python basic structure"
   ]
  },
  {
   "cell_type": "markdown",
   "metadata": {},
   "source": [
    "## For Loops"
   ]
  },
  {
   "cell_type": "code",
   "execution_count": null,
   "metadata": {},
   "outputs": [],
   "source": [
    "for i in range(1,10,2):\n",
    "    print i"
   ]
  },
  {
   "cell_type": "markdown",
   "metadata": {},
   "source": [
    "## While Loops"
   ]
  },
  {
   "cell_type": "code",
   "execution_count": null,
   "metadata": {},
   "outputs": [],
   "source": [
    "j = 1\n",
    "while j < 10:\n",
    "    print j\n",
    "    j += 1"
   ]
  },
  {
   "cell_type": "markdown",
   "metadata": {},
   "source": [
    "## If conditions"
   ]
  },
  {
   "cell_type": "code",
   "execution_count": null,
   "metadata": {},
   "outputs": [],
   "source": [
    "y = True\n",
    "if y:\n",
    "    print \"y is True\"\n",
    "   \n",
    "a = 1 \n",
    "b = 2\n",
    "if a == 1 and b == 2:\n",
    "    print \"Condition met\""
   ]
  },
  {
   "cell_type": "markdown",
   "metadata": {},
   "source": [
    "## Lists"
   ]
  },
  {
   "cell_type": "code",
   "execution_count": null,
   "metadata": {},
   "outputs": [],
   "source": [
    "fruit = [\"Mango\", \"Apple\", \"Orange\", \"Pear\"]\n",
    "print len(fruit)\n",
    "fruit.sort()\n",
    "print fruit\n",
    "fruit.pop()\n",
    "print fruit\n",
    "fruit.append(\"Banana\")\n",
    "print fruit\n",
    "fruit.insert(0,\"Grapes\")\n",
    "print fruit\n",
    "\n",
    "for f in fruit:\n",
    "    print f"
   ]
  },
  {
   "cell_type": "markdown",
   "metadata": {},
   "source": [
    "### List by index operations"
   ]
  },
  {
   "cell_type": "code",
   "execution_count": null,
   "metadata": {},
   "outputs": [],
   "source": [
    "two_dim = [[1,2,3], [4,5,6], [7,8,9]]\n",
    "print two_dim\n",
    "print two_dim[0]\n",
    "print two_dim[2][1]"
   ]
  },
  {
   "cell_type": "markdown",
   "metadata": {},
   "source": [
    "## Dictionary\n",
    "A dictionary is a 'list' of key/value pairs.  Keys are immutable, but values are not.  "
   ]
  },
  {
   "cell_type": "code",
   "execution_count": null,
   "metadata": {},
   "outputs": [],
   "source": [
    "bmw = {'color':'Black', 'drivetrain':'AWD', 'engine':'2.0'}\n",
    "print bmw\n",
    "print bmw['color']"
   ]
  },
  {
   "cell_type": "markdown",
   "metadata": {},
   "source": [
    "### (Dictionary Cont.) More relevant to our needs\n",
    "We will be using this approach a lot later on.  It is very convenient to pass parameters to other methods/functions, so get used to it."
   ]
  },
  {
   "cell_type": "code",
   "execution_count": null,
   "metadata": {},
   "outputs": [],
   "source": [
    "import random # Will use it to generate random number later for values\n",
    "parameters={} # Empty dictionary\n",
    "for x in range(3):\n",
    "    weight = 'w'+str(x) # created keys 'w1', 'w2', 'w3'\n",
    "    # Now lets use these keys to inset random numbers as values\n",
    "    parameters[weight]= random.randint(1,10) # Stuck the key value pair in the dictionary\n",
    "\n",
    "print parameters\n",
    "    "
   ]
  },
  {
   "cell_type": "markdown",
   "metadata": {},
   "source": [
    "## Tuples"
   ]
  },
  {
   "cell_type": "code",
   "execution_count": null,
   "metadata": {},
   "outputs": [],
   "source": [
    "foo = (1,2,3,'alpha', 'bravo')\n",
    "print foo[0]\n",
    "print foo[4]\n",
    "\n",
    "foo[0] = 'Tango' # Will fail. Tuples are immutable"
   ]
  }
 ],
 "metadata": {
  "kernelspec": {
   "display_name": "Python 2",
   "language": "python",
   "name": "python2"
  },
  "language_info": {
   "codemirror_mode": {
    "name": "ipython",
    "version": 2
   },
   "file_extension": ".py",
   "mimetype": "text/x-python",
   "name": "python",
   "nbconvert_exporter": "python",
   "pygments_lexer": "ipython2",
   "version": "2.7.12"
  }
 },
 "nbformat": 4,
 "nbformat_minor": 2
}
