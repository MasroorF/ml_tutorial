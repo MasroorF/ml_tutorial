{
 "cells": [
  {
   "cell_type": "markdown",
   "metadata": {},
   "source": [
    "# Functions\n",
    "Function definitions. We will *NOT* discuss classes/methods right now"
   ]
  },
  {
   "cell_type": "code",
   "execution_count": 3,
   "metadata": {},
   "outputs": [
    {
     "name": "stdout",
     "output_type": "stream",
     "text": [
      "3\n"
     ]
    }
   ],
   "source": [
    "# Definition of function\n",
    "def sum_two_numbers(a,b):\n",
    "    return a+b\n",
    "\n",
    "foo = sum_two_numbers(1,2)\n",
    "print foo"
   ]
  },
  {
   "cell_type": "markdown",
   "metadata": {},
   "source": [
    "### Lets get more interesting ...\n",
    "We will pass a dictionary with 3 elements into a function. We will then pull out the elements in the function and return the answer."
   ]
  },
  {
   "cell_type": "code",
   "execution_count": 11,
   "metadata": {},
   "outputs": [
    {
     "name": "stdout",
     "output_type": "stream",
     "text": [
      "volume of the cube is 120\n"
     ]
    }
   ],
   "source": [
    "def vol_of_cube(parameters):\n",
    "    l = parameters['length']\n",
    "    w = parameters['width']\n",
    "    h = parameters['height']\n",
    "    \n",
    "    vol = l * w * h\n",
    "    return vol\n",
    "\n",
    "parameters = {'length':5, 'width':8, 'height': 3}\n",
    "vol_out = vol_of_cube(parameters)\n",
    "print 'volume of the cube is %d' % vol_out\n",
    "# Notice the way print statement is done. %d is decimal. This method is called formatted string printing"
   ]
  },
  {
   "cell_type": "markdown",
   "metadata": {},
   "source": [
    "### Code assignment\n",
    "Modify the vol_of_cube code above as follows:\n",
    "* Add an additional element to the parameters dictionary called 'volume', initialize it to zero\n",
    "* In the vol_of_cube, calculated volume of the cube and assign it to the 'volume' key \n",
    "* Return the parameters dictionary \n",
    "* Print the volume in the orginating functional call area"
   ]
  }
 ],
 "metadata": {
  "kernelspec": {
   "display_name": "Python 2",
   "language": "python",
   "name": "python2"
  },
  "language_info": {
   "codemirror_mode": {
    "name": "ipython",
    "version": 2
   },
   "file_extension": ".py",
   "mimetype": "text/x-python",
   "name": "python",
   "nbconvert_exporter": "python",
   "pygments_lexer": "ipython2",
   "version": "2.7.12"
  }
 },
 "nbformat": 4,
 "nbformat_minor": 2
}
